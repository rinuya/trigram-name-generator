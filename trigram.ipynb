{
 "cells": [
  {
   "cell_type": "code",
   "execution_count": 1,
   "id": "33aa761a-f28a-41ab-acbd-d56a252da27c",
   "metadata": {},
   "outputs": [],
   "source": [
    "# grab all the names\n",
    "words = open('names.txt', 'r').read().splitlines()"
   ]
  },
  {
   "cell_type": "code",
   "execution_count": 2,
   "id": "aeecf243-64bd-4024-9f01-af3af3b51f3f",
   "metadata": {},
   "outputs": [],
   "source": [
    "# create the counts. we can reuse our previous functions here\n",
    "all_characters = sorted(list(set(\"\".join(words))))\n",
    "# string to int, a = 1, b = 2, ...\n",
    "stoi = {s: i+1 for i, s in enumerate(all_characters)}\n",
    "# special char \".\", would assume that there is no one letter name\n",
    "stoi['.'] = 0\n",
    "# int to string mapping'\n",
    "itos = {i: s for s, i in stoi.items()}"
   ]
  },
  {
   "cell_type": "code",
   "execution_count": 3,
   "id": "86a64e70-c39c-4c7c-86d3-e9256f0996c9",
   "metadata": {},
   "outputs": [
    {
     "data": {
      "text/plain": [
       "2"
      ]
     },
     "execution_count": 3,
     "metadata": {},
     "output_type": "execute_result"
    }
   ],
   "source": [
    "# quickly check for one letter names\n",
    "sorted(len(w) for w in words)[0]"
   ]
  },
  {
   "cell_type": "code",
   "execution_count": 4,
   "id": "0568f9eb-6a20-4a48-8e16-4eca9dc21367",
   "metadata": {},
   "outputs": [],
   "source": [
    "# create the counts table. Since this is a trigram instead of a bigram, we need 3 dimensions\n",
    "import torch"
   ]
  },
  {
   "cell_type": "code",
   "execution_count": 5,
   "id": "6b1af7b6-b582-4f47-938c-b56fffe7a7f1",
   "metadata": {},
   "outputs": [
    {
     "data": {
      "text/plain": [
       "torch.Size([27, 27, 27])"
      ]
     },
     "execution_count": 5,
     "metadata": {},
     "output_type": "execute_result"
    }
   ],
   "source": [
    "N = torch.zeros((27, 27, 27), dtype=torch.int32)\n",
    "N.shape"
   ]
  },
  {
   "cell_type": "code",
   "execution_count": 6,
   "id": "42ad8e24-12e9-4391-8301-1b68e19c5174",
   "metadata": {},
   "outputs": [],
   "source": [
    "# loop through words and start counting\n",
    "for w in words:\n",
    "    chs = ['.'] + list(w) + ['.']\n",
    "    for ch1, ch2, ch3 in zip(chs, chs[1:], chs[2:]):\n",
    "        ix1 = stoi[ch1]\n",
    "        ix2 = stoi[ch2]\n",
    "        ix3 = stoi[ch3]\n",
    "        N[ix1, ix2, ix3] += 1"
   ]
  },
  {
   "cell_type": "code",
   "execution_count": 7,
   "id": "4749b199-3f65-4b69-9d74-668048a5d7ce",
   "metadata": {},
   "outputs": [
    {
     "name": "stdout",
     "output_type": "stream",
     "text": [
      "tensor(0, dtype=torch.int32)\n",
      "tensor(100, dtype=torch.int32)\n",
      "tensor([  0, 169,   0,   0,   0, 253,   0,   0,   9,  41,   1,   0,  85,   0,\n",
      "          0,  77,   0,   0, 646,   0,   0,  21,   0,   0,   0,   4,   0],\n",
      "       dtype=torch.int32)\n"
     ]
    }
   ],
   "source": [
    "print(N[0, 0, 0]) # would be \"...\", which should never happen.\n",
    "print(N[5, 13, 13]) # emm, which should appear since \"emma\" is a name in our dataset\n",
    "print(N[0, 2, :]) # names starting with b, looks about right"
   ]
  },
  {
   "cell_type": "code",
   "execution_count": 8,
   "id": "a4a77554-08df-453e-b3dc-8a08bb709d50",
   "metadata": {},
   "outputs": [],
   "source": [
    "# I think the way this NN should look like is that it takes xs in the shape of \n",
    "# 2 * 27 classes and returns a guess for a ch3"
   ]
  },
  {
   "cell_type": "code",
   "execution_count": 9,
   "id": "1710bcbc-b23c-4ab9-891b-8367d802bcfc",
   "metadata": {},
   "outputs": [],
   "source": [
    "# training point [x_1, x_2], label y\n",
    "xs, ys = [], []\n",
    "# collect training points and labels\n",
    "for w in words:\n",
    "    chs = ['.'] + list(w) + ['.']\n",
    "    for ch1, ch2, ch3 in zip(chs, chs[1:], chs[2:]):\n",
    "        ix1 = stoi[ch1]\n",
    "        ix2 = stoi[ch2]\n",
    "        ix3 = stoi[ch3]\n",
    "        xs.append((ix1, ix2))\n",
    "        ys.append(ix3)\n",
    "\n",
    "xs = torch.tensor(xs)\n",
    "ys = torch.tensor(ys)"
   ]
  },
  {
   "cell_type": "code",
   "execution_count": 10,
   "id": "b43ac6d9-16cb-421a-9c04-fa37de17cc14",
   "metadata": {},
   "outputs": [
    {
     "data": {
      "text/plain": [
       "torch.Size([196113, 54])"
      ]
     },
     "execution_count": 10,
     "metadata": {},
     "output_type": "execute_result"
    }
   ],
   "source": [
    "import torch.nn.functional as F\n",
    "# encode x, note that we first encode x_1 and x_2, then we concat them over dim1 (column).\n",
    "# This will result in concatting the COLUMNS. Row concat is esentially like appending a list to another, which is not what we want.\n",
    "x_enc = torch.cat([F.one_hot(xs[:, 0], num_classes=27).float(), \n",
    "                             F.one_hot(xs[:, 1], num_classes=27).float()], dim=1)\n",
    "x_enc.shape"
   ]
  },
  {
   "cell_type": "code",
   "execution_count": 11,
   "id": "34eaf6b7-9d3b-4ba7-aeb5-0ad32ed76ddc",
   "metadata": {},
   "outputs": [],
   "source": [
    "# init the neural network\n",
    "W = torch.randn((54, 27), requires_grad=True)\n",
    "num = int(xs.nelement() / 2)"
   ]
  },
  {
   "cell_type": "code",
   "execution_count": 12,
   "id": "6e43e6db-4975-4a00-ab2f-b9b68f22fb89",
   "metadata": {},
   "outputs": [
    {
     "name": "stdout",
     "output_type": "stream",
     "text": [
      "0 4.326144695281982\n",
      "10 2.6685147285461426\n",
      "20 2.4744510650634766\n",
      "30 2.3979923725128174\n",
      "40 2.357487201690674\n",
      "50 2.3328921794891357\n",
      "60 2.31642484664917\n",
      "70 2.3045926094055176\n",
      "80 2.2956583499908447\n",
      "90 2.288663864135742\n"
     ]
    }
   ],
   "source": [
    "for k in range(100):\n",
    "    # forward pass\n",
    "    x_enc = torch.cat([F.one_hot(xs[:, 0], num_classes=27).float(), \n",
    "                             F.one_hot(xs[:, 1], num_classes=27).float()], dim=1)\n",
    "    logits = x_enc @ W # predict log counts\n",
    "    counts = logits.exp()\n",
    "    probs = counts / counts.sum(1, keepdims=True)\n",
    "    loss = -probs[torch.arange(num), ys].log().mean()\n",
    "    if k % 10 == 0:\n",
    "        print(k, loss.item())\n",
    "    # backward pass\n",
    "    W.grad = None # set grad to 0\n",
    "    loss.backward()\n",
    "\n",
    "    # update\n",
    "    W.data += -30 * W.grad"
   ]
  },
  {
   "cell_type": "code",
   "execution_count": 13,
   "id": "a42acbe9-dc64-4824-a9ce-5121f9c2314b",
   "metadata": {},
   "outputs": [
    {
     "name": "stdout",
     "output_type": "stream",
     "text": [
      "adellyna.\n",
      "beelynis.\n",
      "co.\n",
      "dynneleel.\n",
      "eley.\n",
      "fikay.\n",
      "getynn.\n",
      "hais.\n",
      "iolux.\n",
      "jayn.\n",
      "kaibrisjai.\n",
      "lany.\n",
      "macwro.\n",
      "ni.\n",
      "od.\n",
      "prenzayishorf.\n",
      "qh.\n",
      "ramhlerani.\n",
      "sovina.\n",
      "telyahduzadilpfiasharin.\n",
      "ua.\n",
      "vakijah.\n",
      "wilon.\n",
      "xenn.\n",
      "ylo.\n",
      "zalyath.\n"
     ]
    }
   ],
   "source": [
    "for i in range(26):\n",
    "    out = [itos[i+1]]\n",
    "    ix = [0, i+1]\n",
    "    while True:\n",
    "        x_enc = torch.cat([F.one_hot(torch.tensor(ix[0]), num_classes=27).float(), \n",
    "                             F.one_hot(torch.tensor(ix[1]), num_classes=27).float()], dim=0)\n",
    "        logits = x_enc @ W\n",
    "        counts = logits.exp()\n",
    "        p = counts / counts.sum(0, keepdims=True)\n",
    "\n",
    "        ix = [ix[1], torch.multinomial(p, num_samples=1, replacement=True).item()]\n",
    "        out.append(itos[ix[1]])\n",
    "        if ix[1] == 0:\n",
    "            break;\n",
    "                                                                                                                                                                   \n",
    "    print(\"\".join(out))\n",
    "        "
   ]
  }
 ],
 "metadata": {
  "kernelspec": {
   "display_name": "Python 3 (ipykernel)",
   "language": "python",
   "name": "python3"
  },
  "language_info": {
   "codemirror_mode": {
    "name": "ipython",
    "version": 3
   },
   "file_extension": ".py",
   "mimetype": "text/x-python",
   "name": "python",
   "nbconvert_exporter": "python",
   "pygments_lexer": "ipython3",
   "version": "3.12.4"
  }
 },
 "nbformat": 4,
 "nbformat_minor": 5
}
